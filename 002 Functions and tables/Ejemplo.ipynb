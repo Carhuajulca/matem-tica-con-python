{
 "cells": [
  {
   "cell_type": "markdown",
   "metadata": {},
   "source": [
    "Functions and a table of (x,y) values"
   ]
  },
  {
   "cell_type": "code",
   "execution_count": 3,
   "metadata": {},
   "outputs": [
    {
     "name": "stdout",
     "output_type": "stream",
     "text": [
      "5 , 23\n",
      "x\t y\n",
      "0 \t 3\n",
      "1 \t 7\n",
      "2 \t 11\n",
      "3 \t 15\n",
      "4 \t 19\n",
      "5 \t 23\n",
      "6 \t 27\n",
      "7 \t 31\n",
      "8 \t 35\n",
      "9 \t 39\n",
      "10 \t 43\n"
     ]
    }
   ],
   "source": [
    "x = 5\n",
    "y = 4*x + 3 #the function\n",
    "\n",
    "print(x,\",\", y)\n",
    "print(\"x\\t y\")\n",
    "\n",
    "for x in range(11):\n",
    "    y = 4*x +3 #The function\n",
    "    print(x, \"\\t\", y)\n",
    "\n"
   ]
  },
  {
   "cell_type": "markdown",
   "metadata": {},
   "source": [
    "Definiendo una función en Python"
   ]
  },
  {
   "cell_type": "code",
   "execution_count": 6,
   "metadata": {},
   "outputs": [
    {
     "name": "stdout",
     "output_type": "stream",
     "text": [
      "5 , 23\n"
     ]
    }
   ],
   "source": [
    "def f(x):\n",
    "    y = 4*x + 3\n",
    "    return y\n",
    "\n",
    "print(5, \",\", f(5))"
   ]
  },
  {
   "cell_type": "code",
   "execution_count": 8,
   "metadata": {},
   "outputs": [
    {
     "name": "stdout",
     "output_type": "stream",
     "text": [
      "0 \t 3\n",
      "1 \t 7\n",
      "2 \t 11\n",
      "3 \t 15\n",
      "4 \t 19\n",
      "5 \t 23\n"
     ]
    }
   ],
   "source": [
    "# el siguiente caso con un bucle\n",
    "for x in range(6):\n",
    "    print(x, \"\\t\", f(x))"
   ]
  }
 ],
 "metadata": {
  "kernelspec": {
   "display_name": "LEARNIG-PYTHON",
   "language": "python",
   "name": "python3"
  },
  "language_info": {
   "codemirror_mode": {
    "name": "ipython",
    "version": 3
   },
   "file_extension": ".py",
   "mimetype": "text/x-python",
   "name": "python",
   "nbconvert_exporter": "python",
   "pygments_lexer": "ipython3",
   "version": "3.10.9"
  }
 },
 "nbformat": 4,
 "nbformat_minor": 2
}
