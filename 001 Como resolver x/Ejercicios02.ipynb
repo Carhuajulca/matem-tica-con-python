{
 "cells": [
  {
   "cell_type": "code",
   "execution_count": 2,
   "metadata": {},
   "outputs": [],
   "source": [
    "from sympy import *"
   ]
  },
  {
   "cell_type": "code",
   "execution_count": 2,
   "metadata": {},
   "outputs": [
    {
     "name": "stdout",
     "output_type": "stream",
     "text": [
      "[5]\n"
     ]
    }
   ],
   "source": [
    "#Ejercicio 1:  3x+5 = 20\n",
    "\n",
    "var('x')\n",
    "left = 3*x+5\n",
    "right = 20\n",
    "eql = Eq(left, right)\n",
    "sol = solve(eql, x)\n",
    "print(sol)"
   ]
  },
  {
   "cell_type": "code",
   "execution_count": 3,
   "metadata": {},
   "outputs": [
    {
     "name": "stdout",
     "output_type": "stream",
     "text": [
      "[11]\n"
     ]
    }
   ],
   "source": [
    "#Ejercicio 2:  2x-7 = 15\n",
    "var('x')\n",
    "left = 2*x-7\n",
    "right = 15\n",
    "eql = Eq(left, right)\n",
    "sol = solve(eql, x)\n",
    "print(sol)\n"
   ]
  },
  {
   "cell_type": "code",
   "execution_count": 6,
   "metadata": {},
   "outputs": [
    {
     "name": "stdout",
     "output_type": "stream",
     "text": [
      "[3]\n"
     ]
    }
   ],
   "source": [
    "#Ejercicio 3:  4(x-3) = 2x - 6\n",
    "var('x')\n",
    "left = 4*(x-3)\n",
    "right = 2*x - 6\n",
    "eql = Eq(left, right)\n",
    "sol = solve(eql, x)\n",
    "print(sol)\n"
   ]
  },
  {
   "cell_type": "code",
   "execution_count": 6,
   "metadata": {},
   "outputs": [
    {
     "name": "stdout",
     "output_type": "stream",
     "text": [
      "[-1]\n"
     ]
    }
   ],
   "source": [
    "#Ejercicio 4:  5-3x=2x+10\n",
    "var('x')\n",
    "left = 5 - 3*x\n",
    "right = 2*x+10\n",
    "eql = Eq(left, right)\n",
    "sol = solve(eql, x)\n",
    "print(sol)"
   ]
  },
  {
   "cell_type": "code",
   "execution_count": 8,
   "metadata": {},
   "outputs": [
    {
     "name": "stdout",
     "output_type": "stream",
     "text": [
      "[12]\n"
     ]
    }
   ],
   "source": [
    "#Ejercicio 5:  x/2 + 4 = 10\n",
    "var('x')\n",
    "left = x/2 + 4\n",
    "right = 10\n",
    "eql = Eq(left, right)\n",
    "sol = solve(eql, x)\n",
    "print(sol)"
   ]
  },
  {
   "cell_type": "code",
   "execution_count": 4,
   "metadata": {},
   "outputs": [
    {
     "name": "stdout",
     "output_type": "stream",
     "text": [
      "[4]\n"
     ]
    }
   ],
   "source": [
    "#Ejercicio 5:  7x - 9 = 2x + 11\n",
    "var('x')\n",
    "left = 7*x - 9\n",
    "right = 2*x + 11\n",
    "eql = Eq(left, right)\n",
    "sol = solve(eql, x)\n",
    "print(sol)"
   ]
  }
 ],
 "metadata": {
  "kernelspec": {
   "display_name": "LEARNIG-PYTHON",
   "language": "python",
   "name": "python3"
  },
  "language_info": {
   "codemirror_mode": {
    "name": "ipython",
    "version": 3
   },
   "file_extension": ".py",
   "mimetype": "text/x-python",
   "name": "python",
   "nbconvert_exporter": "python",
   "pygments_lexer": "ipython3",
   "version": "3.10.9"
  }
 },
 "nbformat": 4,
 "nbformat_minor": 2
}
